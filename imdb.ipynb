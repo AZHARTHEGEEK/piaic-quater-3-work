{
 "cells": [
  {
   "cell_type": "markdown",
   "metadata": {},
   "source": [
    "# Using Word Embedding on IMDB Dataset"
   ]
  },
  {
   "cell_type": "code",
   "execution_count": 1,
   "metadata": {},
   "outputs": [],
   "source": [
    "# word embedding = (one hot encoding jesa hota hai but light hota hai choete size hota hai low dimention hota \n",
    "#                   hai dense hota hai) isko data ke through learn karainge jb ohc data ke through learn nahe hota\n",
    "#                   256,512,1024 size hota hai word embedding ka\n",
    "# jo word samonians honge meaning same honge jese watch clock woh kareb kareb vector honge.\n",
    "# \n",
    "\n",
    "# vectorization types:\n",
    " # a, one hot \n",
    " # b, embedding : 1. traing karai khud or 2. pretrained embading use kersakte hai\n",
    " # c, ngrams approch"
   ]
  },
  {
   "cell_type": "code",
   "execution_count": 2,
   "metadata": {},
   "outputs": [],
   "source": [
    "# EMBEDDING  > vector\n",
    "# rnn        > feature extraction\n",
    "# dence      > Classification"
   ]
  },
  {
   "cell_type": "code",
   "execution_count": 3,
   "metadata": {},
   "outputs": [],
   "source": [
    "# back propogation = weight ubdate kerta hai revece mai"
   ]
  },
  {
   "cell_type": "code",
   "execution_count": 4,
   "metadata": {},
   "outputs": [],
   "source": [
    "import numpy as np\n",
    "from tensorflow.keras.layers import Embedding"
   ]
  },
  {
   "cell_type": "code",
   "execution_count": 5,
   "metadata": {},
   "outputs": [],
   "source": [
    "max_features = 10000   # most common word\n",
    "maxlen = 20            # 20 word ka sentence hoga max\n",
    "\n",
    "from tensorflow.keras.datasets import imdb\n",
    "(x_train, y_train), (x_test, y_test) = imdb.load_data(num_words=max_features)"
   ]
  },
  {
   "cell_type": "code",
   "execution_count": 6,
   "metadata": {},
   "outputs": [],
   "source": [
    "# pad_sequences is used to ensure that all sequences in a list have the same length.\n",
    "from tensorflow.keras import preprocessing\n",
    "x_train = preprocessing.sequence.pad_sequences(x_train, maxlen=maxlen)\n",
    "x_test = preprocessing.sequence.pad_sequences(x_test, maxlen=maxlen)"
   ]
  },
  {
   "cell_type": "code",
   "execution_count": 7,
   "metadata": {},
   "outputs": [
    {
     "name": "stdout",
     "output_type": "stream",
     "text": [
      "Model: \"sequential\"\n",
      "_________________________________________________________________\n",
      "Layer (type)                 Output Shape              Param #   \n",
      "=================================================================\n",
      "embedding (Embedding)        (None, 20, 8)             80000     \n",
      "_________________________________________________________________\n",
      "flatten (Flatten)            (None, 160)               0         \n",
      "_________________________________________________________________\n",
      "dense (Dense)                (None, 1)                 161       \n",
      "=================================================================\n",
      "Total params: 80,161\n",
      "Trainable params: 80,161\n",
      "Non-trainable params: 0\n",
      "_________________________________________________________________\n"
     ]
    }
   ],
   "source": [
    "from tensorflow.keras.models import Sequential\n",
    "from tensorflow.keras.layers import Flatten, Dense\n",
    "model = Sequential()\n",
    "model.add(Embedding(10000, 8, input_length=maxlen)) # 10000 sentences, 8 length # word embedding ?\n",
    "model.add(Flatten())\n",
    "model.add(Dense(1, activation='sigmoid'))\n",
    "model.compile(optimizer='rmsprop', loss='binary_crossentropy', metrics=['acc'])\n",
    "model.summary()"
   ]
  },
  {
   "cell_type": "code",
   "execution_count": 8,
   "metadata": {},
   "outputs": [
    {
     "name": "stdout",
     "output_type": "stream",
     "text": [
      "Train on 20000 samples, validate on 5000 samples\n",
      "Epoch 1/10\n",
      "20000/20000 [==============================] - 4s 207us/sample - loss: 0.6726 - acc: 0.6115 - val_loss: 0.6288 - val_acc: 0.6860\n",
      "Epoch 2/10\n",
      "20000/20000 [==============================] - 3s 166us/sample - loss: 0.5512 - acc: 0.7478 - val_loss: 0.5329 - val_acc: 0.7304\n",
      "Epoch 3/10\n",
      "20000/20000 [==============================] - 3s 161us/sample - loss: 0.4655 - acc: 0.7889 - val_loss: 0.5030 - val_acc: 0.7502\n",
      "Epoch 4/10\n",
      "20000/20000 [==============================] - 3s 152us/sample - loss: 0.4224 - acc: 0.8090 - val_loss: 0.4943 - val_acc: 0.7518\n",
      "Epoch 5/10\n",
      "20000/20000 [==============================] - 3s 156us/sample - loss: 0.3926 - acc: 0.8256 - val_loss: 0.4949 - val_acc: 0.7540\n",
      "Epoch 6/10\n",
      "20000/20000 [==============================] - 3s 154us/sample - loss: 0.3684 - acc: 0.8404 - val_loss: 0.4973 - val_acc: 0.7584\n",
      "Epoch 7/10\n",
      "20000/20000 [==============================] - 3s 150us/sample - loss: 0.3460 - acc: 0.8513 - val_loss: 0.5048 - val_acc: 0.7568\n",
      "Epoch 8/10\n",
      "20000/20000 [==============================] - 3s 150us/sample - loss: 0.3258 - acc: 0.8651 - val_loss: 0.5092 - val_acc: 0.7554\n",
      "Epoch 9/10\n",
      "20000/20000 [==============================] - 3s 150us/sample - loss: 0.3062 - acc: 0.8745 - val_loss: 0.5191 - val_acc: 0.7552\n",
      "Epoch 10/10\n",
      "20000/20000 [==============================] - 3s 151us/sample - loss: 0.2882 - acc: 0.8840 - val_loss: 0.5282 - val_acc: 0.7510\n"
     ]
    }
   ],
   "source": [
    "history = model.fit(x_train, y_train,\n",
    "                    epochs=10,\n",
    "                    batch_size=32,\n",
    "                    validation_split=0.2)"
   ]
  },
  {
   "cell_type": "markdown",
   "metadata": {},
   "source": [
    "It’s much better to add recurrent layers or 1D convolutional layers on top of the embedded sequences to learn features that take into account each sequence as a whole.\n",
    "That’s what we’ll focus on in the next few sections. "
   ]
  },
  {
   "cell_type": "markdown",
   "metadata": {},
   "source": [
    "# Download Imdb data from\n",
    " http://mng.bz/0tIo"
   ]
  },
  {
   "cell_type": "markdown",
   "metadata": {},
   "source": [
    "let’s collect the individual training reviews into a list of strings, one string per\n",
    "review. We’ll also collect the review labels (positive/negative) into a labels list. "
   ]
  },
  {
   "cell_type": "markdown",
   "metadata": {},
   "source": [
    "# Processing the labels of the raw IMDB data"
   ]
  },
  {
   "cell_type": "code",
   "execution_count": 9,
   "metadata": {},
   "outputs": [],
   "source": [
    "import os\n",
    "imdb_dir = 'aclImdb'\n",
    "train_dir = os.path.join(imdb_dir, 'train')\n",
    "labels = []\n",
    "texts = []\n",
    "for label_type in ['neg', 'pos']:\n",
    "    dir_name = os.path.join(train_dir, label_type)\n",
    "\n",
    "    for fname in os.listdir(dir_name):\n",
    "        if fname[-4:] == '.txt':\n",
    "            f = open(os.path.join(dir_name, fname),encoding=\"utf8\")\n",
    "            texts.append(f.read())\n",
    "            f.close()\n",
    "        if label_type == 'neg':\n",
    "            labels.append(0)\n",
    "        else:\n",
    "            labels.append(1)"
   ]
  },
  {
   "cell_type": "code",
   "execution_count": 10,
   "metadata": {},
   "outputs": [],
   "source": [
    "#texts"
   ]
  },
  {
   "cell_type": "code",
   "execution_count": 11,
   "metadata": {},
   "outputs": [],
   "source": [
    "#labels"
   ]
  },
  {
   "cell_type": "markdown",
   "metadata": {},
   "source": [
    "# Tokenizing the text of the raw IMDB data"
   ]
  },
  {
   "cell_type": "code",
   "execution_count": 12,
   "metadata": {},
   "outputs": [],
   "source": [
    "from tensorflow.keras.preprocessing.text import Tokenizer\n",
    "from tensorflow.keras.preprocessing.sequence import pad_sequences\n",
    "import numpy as np\n",
    "\n",
    "maxlen = 100               # Cuts off reviews after 100 words\n",
    "training_samples = 200     # Trains on 200 samples\n",
    "validation_samples = 10000 # Validates on 10,000 samples\n",
    "max_words = 10000          # Considers only the top 10,000 words in the dataset\n",
    "\n",
    "tokenizer = Tokenizer(num_words=max_words)\n",
    "tokenizer.fit_on_texts(texts)\n",
    "sequences = tokenizer.texts_to_sequences(texts)\n",
    "#sequences"
   ]
  },
  {
   "cell_type": "code",
   "execution_count": 13,
   "metadata": {},
   "outputs": [
    {
     "name": "stdout",
     "output_type": "stream",
     "text": [
      "Found 88582 unique tokens.\n"
     ]
    }
   ],
   "source": [
    "word_index = tokenizer.word_index\n",
    "print('Found %s unique tokens.' % len(word_index))"
   ]
  },
  {
   "cell_type": "code",
   "execution_count": 14,
   "metadata": {},
   "outputs": [],
   "source": [
    "# pad_sequences is used to ensure that all sequences in a list have the same length.\n",
    "from tensorflow.keras.preprocessing.sequence import pad_sequences\n",
    "data = pad_sequences(sequences, maxlen=maxlen)\n",
    "#data"
   ]
  },
  {
   "cell_type": "code",
   "execution_count": 15,
   "metadata": {},
   "outputs": [
    {
     "name": "stdout",
     "output_type": "stream",
     "text": [
      "Shape of data tensor: (25000, 100)\n",
      "Shape of label tensor: (25000,)\n"
     ]
    }
   ],
   "source": [
    "labels = np.asarray(labels)\n",
    "print('Shape of data tensor:', data.shape)\n",
    "print('Shape of label tensor:', labels.shape)"
   ]
  },
  {
   "cell_type": "markdown",
   "metadata": {},
   "source": [
    "Splits the data into a training set and a\n",
    "validation set, but first shuffles the data,\n",
    "because you’re starting with data in which\n",
    "samples are ordered (all negative first, then\n",
    "all positive) "
   ]
  },
  {
   "cell_type": "code",
   "execution_count": 16,
   "metadata": {},
   "outputs": [],
   "source": [
    "indices = np.arange(data.shape[0])   # ?\n",
    "np.random.shuffle(indices)\n",
    "data = data[indices]\n",
    "labels = labels[indices]"
   ]
  },
  {
   "cell_type": "code",
   "execution_count": 17,
   "metadata": {},
   "outputs": [],
   "source": [
    "x_train = data[:training_samples]\n",
    "y_train = labels[:training_samples]\n",
    "x_val = data[training_samples: training_samples + validation_samples]\n",
    "y_val = labels[training_samples: training_samples + validation_samples]"
   ]
  },
  {
   "cell_type": "markdown",
   "metadata": {},
   "source": [
    "# DOWNLOADING THE GLOVE WORD EMBEDDINGS\n",
    "https://nlp.stanford.edu/projects/glove"
   ]
  },
  {
   "cell_type": "markdown",
   "metadata": {},
   "source": [
    "It’s an 822 MB zip file called glove.6B.zip,\n",
    "containing 100-dimensional embedding vectors for 400,000 words (or nonword\n",
    "tokens)."
   ]
  },
  {
   "cell_type": "markdown",
   "metadata": {},
   "source": [
    "PREPROCESSING THE EMBEDDINGS\n",
    "Let’s parse the unzipped file (a .txt file) to build an index that maps words (as strings)\n",
    "to their vector representation (as number vectors)."
   ]
  },
  {
   "cell_type": "markdown",
   "metadata": {},
   "source": [
    "# Parsing the GloVe word-embeddings file"
   ]
  },
  {
   "cell_type": "code",
   "execution_count": 18,
   "metadata": {},
   "outputs": [
    {
     "name": "stdout",
     "output_type": "stream",
     "text": [
      "Found 400000 word vectors.\n"
     ]
    }
   ],
   "source": [
    "glove_dir = 'glove.6B'                                                   # ?\n",
    "embeddings_index = {}\n",
    "f = open(os.path.join(glove_dir, 'glove.6B.100d.txt'),encoding=\"utf8\")\n",
    "\n",
    "for line in f:\n",
    "    values = line.split()\n",
    "    word = values[0]\n",
    "    coefs = np.asarray(values[1:], dtype='float32')\n",
    "    embeddings_index[word] = coefs\n",
    "f.close()\n",
    "print('Found %s word vectors.' % len(embeddings_index))"
   ]
  },
  {
   "cell_type": "markdown",
   "metadata": {},
   "source": [
    "Next, you’ll build an embedding matrix that you can load into an Embedding layer. It\n",
    "must be a matrix of shape (max_words, embedding_dim), where each entry i contains\n",
    "the embedding_dim-dimensional vector for the word of index i in the reference word\n",
    "index (built during tokenization). Note that index 0 isn’t supposed to stand for any\n",
    "word or token—it’s a placeholder."
   ]
  },
  {
   "cell_type": "markdown",
   "metadata": {},
   "source": [
    "# Listing 6.11 Preparing the GloVe word-embeddings matrix"
   ]
  },
  {
   "cell_type": "code",
   "execution_count": 19,
   "metadata": {},
   "outputs": [],
   "source": [
    "embedding_dim = 100\n",
    "embedding_matrix = np.zeros((max_words, embedding_dim))\n",
    "for word, i in word_index.items():\n",
    "    if i < max_words:\n",
    "        embedding_vector = embeddings_index.get(word)\n",
    "        if embedding_vector is not None:\n",
    "            embedding_matrix[i] = embedding_vector"
   ]
  },
  {
   "cell_type": "code",
   "execution_count": 20,
   "metadata": {},
   "outputs": [],
   "source": [
    "#  same model architecture as before"
   ]
  },
  {
   "cell_type": "code",
   "execution_count": 21,
   "metadata": {},
   "outputs": [
    {
     "name": "stdout",
     "output_type": "stream",
     "text": [
      "Model: \"sequential_1\"\n",
      "_________________________________________________________________\n",
      "Layer (type)                 Output Shape              Param #   \n",
      "=================================================================\n",
      "embedding_1 (Embedding)      (None, 100, 100)          1000000   \n",
      "_________________________________________________________________\n",
      "flatten_1 (Flatten)          (None, 10000)             0         \n",
      "_________________________________________________________________\n",
      "dense_1 (Dense)              (None, 32)                320032    \n",
      "_________________________________________________________________\n",
      "dense_2 (Dense)              (None, 1)                 33        \n",
      "=================================================================\n",
      "Total params: 1,320,065\n",
      "Trainable params: 1,320,065\n",
      "Non-trainable params: 0\n",
      "_________________________________________________________________\n"
     ]
    }
   ],
   "source": [
    "from tensorflow.keras.models import Sequential\n",
    "from tensorflow.keras.layers import Embedding, Flatten, Dense\n",
    "model = Sequential()\n",
    "model.add(Embedding(max_words, embedding_dim, input_length=maxlen))\n",
    "model.add(Flatten())\n",
    "model.add(Dense(32, activation='relu'))\n",
    "model.add(Dense(1, activation='sigmoid'))\n",
    "model.summary()"
   ]
  },
  {
   "cell_type": "markdown",
   "metadata": {},
   "source": [
    "# Listing 6.13 Loading pretrained word embeddings into the Embedding layer"
   ]
  },
  {
   "cell_type": "code",
   "execution_count": 22,
   "metadata": {},
   "outputs": [],
   "source": [
    "model.layers[0].set_weights([embedding_matrix])\n",
    "model.layers[0].trainable = False"
   ]
  },
  {
   "cell_type": "markdown",
   "metadata": {},
   "source": [
    "Additionally, you’ll freeze the Embedding layer (set its trainable attribute to False),\n",
    "following the same rationale you’re already familiar with in the context of pretrained\n",
    "convnet features: when parts of a model are pretrained (like your Embedding layer)\n",
    "and parts are randomly initialized (like your classifier), the pretrained parts shouldn’t\n",
    "be updated during training, to avoid forgetting what they already know. The large gradient updates triggered by the randomly initialized layers would be disruptive to the\n",
    "already-learned features. "
   ]
  },
  {
   "cell_type": "markdown",
   "metadata": {},
   "source": [
    "# Listing 6.14 Training and evaluation"
   ]
  },
  {
   "cell_type": "code",
   "execution_count": 23,
   "metadata": {},
   "outputs": [
    {
     "name": "stdout",
     "output_type": "stream",
     "text": [
      "Train on 200 samples, validate on 10000 samples\n",
      "Epoch 1/10\n",
      "200/200 [==============================] - 3s 13ms/sample - loss: 1.4733 - acc: 0.4350 - val_loss: 0.6931 - val_acc: 0.4956\n",
      "Epoch 2/10\n",
      "200/200 [==============================] - 2s 10ms/sample - loss: 0.6396 - acc: 0.5900 - val_loss: 0.8180 - val_acc: 0.4975\n",
      "Epoch 3/10\n",
      "200/200 [==============================] - 2s 9ms/sample - loss: 0.4558 - acc: 0.8000 - val_loss: 0.8037 - val_acc: 0.5144\n",
      "Epoch 4/10\n",
      "200/200 [==============================] - 2s 9ms/sample - loss: 0.5474 - acc: 0.7250 - val_loss: 0.7078 - val_acc: 0.5509\n",
      "Epoch 5/10\n",
      "200/200 [==============================] - 2s 9ms/sample - loss: 0.1631 - acc: 0.9850 - val_loss: 1.0817 - val_acc: 0.4999\n",
      "Epoch 6/10\n",
      "200/200 [==============================] - 2s 9ms/sample - loss: 0.2324 - acc: 0.8900 - val_loss: 1.0734 - val_acc: 0.5171\n",
      "Epoch 7/10\n",
      "200/200 [==============================] - 2s 9ms/sample - loss: 0.0998 - acc: 0.9800 - val_loss: 0.7935 - val_acc: 0.5477\n",
      "Epoch 8/10\n",
      "200/200 [==============================] - 2s 9ms/sample - loss: 0.2085 - acc: 0.9200 - val_loss: 1.7487 - val_acc: 0.4948\n",
      "Epoch 9/10\n",
      "200/200 [==============================] - 2s 9ms/sample - loss: 0.0644 - acc: 0.9800 - val_loss: 0.7723 - val_acc: 0.5586\n",
      "Epoch 10/10\n",
      "200/200 [==============================] - 2s 9ms/sample - loss: 0.0219 - acc: 1.0000 - val_loss: 0.7899 - val_acc: 0.5581\n"
     ]
    }
   ],
   "source": [
    "model.compile(optimizer='rmsprop',\n",
    "loss='binary_crossentropy',\n",
    "metrics=['acc'])\n",
    "\n",
    "history = model.fit(x_train, y_train,\n",
    "                    epochs=10,\n",
    "                    batch_size=32,\n",
    "                    validation_data=(x_val, y_val))\n",
    "\n",
    "model.save_weights('pre_trained_glove_model.h5')"
   ]
  },
  {
   "cell_type": "code",
   "execution_count": null,
   "metadata": {},
   "outputs": [],
   "source": []
  },
  {
   "cell_type": "code",
   "execution_count": 24,
   "metadata": {},
   "outputs": [
    {
     "data": {
      "image/png": "[encoded data removed]",
      "text/plain": [
       "<Figure size 432x288 with 1 Axes>"
      ]
     },
     "metadata": {
      "needs_background": "light"
     },
     "output_type": "display_data"
    },
    {
     "data": {
      "image/png": "[encoded data removed]",
      "text/plain": [
       "<Figure size 432x288 with 1 Axes>"
      ]
     },
     "metadata": {
      "needs_background": "light"
     },
     "output_type": "display_data"
    }
   ],
   "source": [
    "import matplotlib.pyplot as plt\n",
    "acc = history.history['acc']\n",
    "val_acc = history.history['val_acc']\n",
    "loss = history.history['loss']\n",
    "val_loss = history.history['val_loss']\n",
    "epochs = range(1, len(acc) + 1)\n",
    "plt.plot(epochs, acc, 'bo', label='Training acc')\n",
    "plt.plot(epochs, val_acc, 'b', label='Validation acc')\n",
    "plt.title('Training and validation accuracy')\n",
    "plt.legend()\n",
    "plt.figure()\n",
    "plt.plot(epochs, loss, 'bo', label='Training loss')\n",
    "plt.plot(epochs, val_loss, 'b', label='Validation loss')\n",
    "plt.title('Training and validation loss')\n",
    "plt.legend()\n",
    "plt.show()"
   ]
  },
  {
   "cell_type": "markdown",
   "metadata": {},
   "source": [
    "The model quickly starts overfitting, which is unsurprising given the small number of\n",
    "training samples. Validation accuracy has high variance for the same reason, but it\n",
    "seems to reach the high 50s."
   ]
  },
  {
   "cell_type": "markdown",
   "metadata": {},
   "source": [
    "# Listing 6.16 Training the same model without pretrained word embeddings"
   ]
  },
  {
   "cell_type": "markdown",
   "metadata": {},
   "source": [
    " You can also train the same model without loading the pretrained word embeddings and without freezing the embedding layer. In that case, you’ll learn a taskspecific embedding of the input tokens, which is generally more powerful than\n",
    "pretrained word embeddings when lots of data is available. But in this case, you have\n",
    "only 200 training samples."
   ]
  },
  {
   "cell_type": "code",
   "execution_count": 25,
   "metadata": {},
   "outputs": [
    {
     "name": "stdout",
     "output_type": "stream",
     "text": [
      "Model: \"sequential_2\"\n",
      "_________________________________________________________________\n",
      "Layer (type)                 Output Shape              Param #   \n",
      "=================================================================\n",
      "embedding_2 (Embedding)      (None, 100, 100)          1000000   \n",
      "_________________________________________________________________\n",
      "flatten_2 (Flatten)          (None, 10000)             0         \n",
      "_________________________________________________________________\n",
      "dense_3 (Dense)              (None, 32)                320032    \n",
      "_________________________________________________________________\n",
      "dense_4 (Dense)              (None, 1)                 33        \n",
      "=================================================================\n",
      "Total params: 1,320,065\n",
      "Trainable params: 1,320,065\n",
      "Non-trainable params: 0\n",
      "_________________________________________________________________\n",
      "Train on 200 samples, validate on 10000 samples\n",
      "Epoch 1/10\n",
      "200/200 [==============================] - 3s 13ms/sample - loss: 0.7007 - acc: 0.4350 - val_loss: 0.6921 - val_acc: 0.5207\n",
      "Epoch 2/10\n",
      "200/200 [==============================] - 2s 9ms/sample - loss: 0.5239 - acc: 0.9850 - val_loss: 0.6925 - val_acc: 0.5197\n",
      "Epoch 3/10\n",
      "200/200 [==============================] - 2s 10ms/sample - loss: 0.3128 - acc: 0.9950 - val_loss: 0.6968 - val_acc: 0.5216\n",
      "Epoch 4/10\n",
      "200/200 [==============================] - 2s 10ms/sample - loss: 0.1394 - acc: 0.9950 - val_loss: 0.7046 - val_acc: 0.5287\n",
      "Epoch 5/10\n",
      "200/200 [==============================] - 2s 10ms/sample - loss: 0.0646 - acc: 1.0000 - val_loss: 0.7191 - val_acc: 0.5230\n",
      "Epoch 6/10\n",
      "200/200 [==============================] - 2s 9ms/sample - loss: 0.0361 - acc: 1.0000 - val_loss: 0.7044 - val_acc: 0.5338\n",
      "Epoch 7/10\n",
      "200/200 [==============================] - 2s 9ms/sample - loss: 0.0186 - acc: 1.0000 - val_loss: 0.7072 - val_acc: 0.5343\n",
      "Epoch 8/10\n",
      "200/200 [==============================] - 2s 9ms/sample - loss: 0.0110 - acc: 1.0000 - val_loss: 0.7126 - val_acc: 0.5324\n",
      "Epoch 9/10\n",
      "200/200 [==============================] - 2s 10ms/sample - loss: 0.0066 - acc: 1.0000 - val_loss: 0.7161 - val_acc: 0.5341\n",
      "Epoch 10/10\n",
      "200/200 [==============================] - 2s 10ms/sample - loss: 0.0041 - acc: 1.0000 - val_loss: 0.7222 - val_acc: 0.5336\n"
     ]
    }
   ],
   "source": [
    "from tensorflow.keras.models import Sequential\n",
    "from tensorflow.keras.layers import Embedding, Flatten, Dense\n",
    "model = Sequential()\n",
    "model.add(Embedding(max_words, embedding_dim, input_length=maxlen))\n",
    "model.add(Flatten())\n",
    "model.add(Dense(32, activation='relu'))\n",
    "model.add(Dense(1, activation='sigmoid'))\n",
    "model.summary()\n",
    "\n",
    "model.compile(optimizer='rmsprop',\n",
    "loss='binary_crossentropy',\n",
    "metrics=['acc'])\n",
    "\n",
    "history = model.fit(x_train, y_train,\n",
    "                    epochs=10,\n",
    "                    batch_size=32,\n",
    "                    validation_data=(x_val, y_val))"
   ]
  },
  {
   "cell_type": "code",
   "execution_count": 26,
   "metadata": {},
   "outputs": [
    {
     "data": {
      "image/png": "[encoded data removed]",
      "text/plain": [
       "<Figure size 432x288 with 1 Axes>"
      ]
     },
     "metadata": {
      "needs_background": "light"
     },
     "output_type": "display_data"
    },
    {
     "data": {
      "image/png": "[encoded data removed]",
      "text/plain": [
       "<Figure size 432x288 with 1 Axes>"
      ]
     },
     "metadata": {
      "needs_background": "light"
     },
     "output_type": "display_data"
    }
   ],
   "source": [
    "import matplotlib.pyplot as plt\n",
    "acc = history.history['acc']\n",
    "val_acc = history.history['val_acc']\n",
    "loss = history.history['loss']\n",
    "val_loss = history.history['val_loss']\n",
    "epochs = range(1, len(acc) + 1)\n",
    "plt.plot(epochs, acc, 'bo', label='Training acc')\n",
    "plt.plot(epochs, val_acc, 'b', label='Validation acc')\n",
    "plt.title('Training and validation accuracy')\n",
    "plt.legend()\n",
    "plt.figure()\n",
    "plt.plot(epochs, loss, 'bo', label='Training loss')\n",
    "plt.plot(epochs, val_loss, 'b', label='Validation loss')\n",
    "plt.title('Training and validation loss')\n",
    "plt.legend()\n",
    "plt.show()"
   ]
  },
  {
   "cell_type": "markdown",
   "metadata": {},
   "source": [
    "Validation accuracy stalls in the low 50s. So in this case, pretrained word embeddings\n",
    "outperform jointly learned embeddings. If you increase the number of training samples, this will quickly stop being the case—try it as an exercise.\n",
    " Finally, let’s evaluate the model on the test data. First, you need to tokenize the test\n",
    "data."
   ]
  },
  {
   "cell_type": "markdown",
   "metadata": {},
   "source": [
    "# Listing 6.17 Tokenizing the data of the test set"
   ]
  },
  {
   "cell_type": "code",
   "execution_count": 27,
   "metadata": {},
   "outputs": [],
   "source": [
    "# ph.No:194"
   ]
  },
  {
   "cell_type": "code",
   "execution_count": null,
   "metadata": {},
   "outputs": [],
   "source": []
  }
 ],
 "metadata": {
  "kernelspec": {
   "display_name": "conda_gpu",
   "language": "python",
   "name": "conda_gpu"
  },
  "language_info": {
   "codemirror_mode": {
    "name": "ipython",
    "version": 3
   },
   "file_extension": ".py",
   "mimetype": "text/x-python",
   "name": "python",
   "nbconvert_exporter": "python",
   "pygments_lexer": "ipython3",
   "version": "3.7.7"
  }
 },
 "nbformat": 4,
 "nbformat_minor": 2
}
